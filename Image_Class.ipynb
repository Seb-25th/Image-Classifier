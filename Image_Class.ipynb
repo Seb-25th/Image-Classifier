{
 "cells": [
  {
   "cell_type": "code",
   "execution_count": 2,
   "id": "eb0b951e-276d-4469-8d4f-d507b5fdd2fc",
   "metadata": {},
   "outputs": [],
   "source": [
    "import numpy as py\n",
    "import pandas as pd\n",
    "import tensorflow as tf\n",
    "import matplotlib as plt\n",
    "\n",
    "from tensorflow import keras\n",
    "from keras import layers"
   ]
  },
  {
   "cell_type": "code",
   "execution_count": 3,
   "id": "43503d36-6b9a-4f8e-b4d1-dda6107bdf79",
   "metadata": {},
   "outputs": [],
   "source": [
    "data_train_path = 'Wine/train'\n",
    "data_test_path = 'Wine/test'\n",
    "data_train_val = 'Wine/vidation'"
   ]
  },
  {
   "cell_type": "code",
   "execution_count": 4,
   "id": "615c4ff0",
   "metadata": {},
   "outputs": [],
   "source": [
    "img_width = 255\n",
    "img_height = 255"
   ]
  },
  {
   "cell_type": "code",
   "execution_count": 5,
   "id": "55b922c7",
   "metadata": {},
   "outputs": [
    {
     "ename": "AttributeError",
     "evalue": "module 'keras.api.utils' has no attribute 'image_dataset_from_directoy'",
     "output_type": "error",
     "traceback": [
      "\u001b[1;31m---------------------------------------------------------------------------\u001b[0m",
      "\u001b[1;31mAttributeError\u001b[0m                            Traceback (most recent call last)",
      "Cell \u001b[1;32mIn[5], line 1\u001b[0m\n\u001b[1;32m----> 1\u001b[0m data_train_path \u001b[38;5;241m=\u001b[39m \u001b[43mtf\u001b[49m\u001b[38;5;241;43m.\u001b[39;49m\u001b[43mkeras\u001b[49m\u001b[38;5;241;43m.\u001b[39;49m\u001b[43mutils\u001b[49m\u001b[38;5;241;43m.\u001b[39;49m\u001b[43mimage_dataset_from_directoy\u001b[49m(\n\u001b[0;32m      2\u001b[0m     data_train_path,\n\u001b[0;32m      3\u001b[0m     shuffle\u001b[38;5;241m=\u001b[39m\u001b[38;5;28;01mTrue\u001b[39;00m,\n\u001b[0;32m      4\u001b[0m     image_size\u001b[38;5;241m=\u001b[39m(img_width,img_height),\n\u001b[0;32m      5\u001b[0m     batch_size\u001b[38;5;241m=\u001b[39m \u001b[38;5;241m4999\u001b[39m,\n\u001b[0;32m      6\u001b[0m     validation_split\u001b[38;5;241m=\u001b[39m\u001b[38;5;28;01mFalse\u001b[39;00m\n\u001b[0;32m      7\u001b[0m )\n",
      "\u001b[1;31mAttributeError\u001b[0m: module 'keras.api.utils' has no attribute 'image_dataset_from_directoy'"
     ]
    }
   ],
   "source": [
    "data_train_path = tf.keras.utils.image_dataset_from_directoy(\n",
    "    data_train_path,\n",
    "    shuffle=True,\n",
    "    image_size=(img_width,img_height),\n",
    "    batch_size= 4999,\n",
    "    validation_split=False\n",
    ")"
   ]
  }
 ],
 "metadata": {
  "kernelspec": {
   "display_name": "Python 3 (ipykernel)",
   "language": "python",
   "name": "python3"
  },
  "language_info": {
   "codemirror_mode": {
    "name": "ipython",
    "version": 3
   },
   "file_extension": ".py",
   "mimetype": "text/x-python",
   "name": "python",
   "nbconvert_exporter": "python",
   "pygments_lexer": "ipython3",
   "version": "3.12.3"
  }
 },
 "nbformat": 4,
 "nbformat_minor": 5
}
